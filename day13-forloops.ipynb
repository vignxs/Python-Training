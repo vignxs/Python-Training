{
 "cells": [
  {
   "cell_type": "code",
   "execution_count": 50,
   "metadata": {},
   "outputs": [
    {
     "name": "stdout",
     "output_type": "stream",
     "text": [
      "1\n",
      "4\n",
      "7\n"
     ]
    }
   ],
   "source": [
    "for i in range(1,10,3):\n",
    "    print(i)"
   ]
  },
  {
   "cell_type": "code",
   "execution_count": 2,
   "metadata": {},
   "outputs": [
    {
     "name": "stdout",
     "output_type": "stream",
     "text": [
      "0\n",
      "1\n",
      "2\n"
     ]
    }
   ],
   "source": [
    "i = 0\n",
    "while i < 3:\n",
    "    print(i)\n",
    "    i = i + 1"
   ]
  },
  {
   "cell_type": "code",
   "execution_count": 6,
   "metadata": {},
   "outputs": [
    {
     "name": "stdout",
     "output_type": "stream",
     "text": [
      "1\n",
      "5\n",
      "2\n",
      "3\n",
      "5\n",
      "4\n",
      "5\n",
      "5\n",
      "6\n",
      "7\n",
      "5\n",
      "8\n",
      "9\n",
      "5\n"
     ]
    }
   ],
   "source": [
    "for i in range(1,10):\n",
    "    print(i)\n",
    "    if (i%2 ==0):\n",
    "        continue    \n",
    "    print(5)"
   ]
  },
  {
   "cell_type": "code",
   "execution_count": 15,
   "metadata": {},
   "outputs": [],
   "source": [
    "for i in range(1,3):\n",
    "    pass"
   ]
  },
  {
   "cell_type": "code",
   "execution_count": 16,
   "metadata": {},
   "outputs": [
    {
     "name": "stdout",
     "output_type": "stream",
     "text": [
      "hi\n",
      "Interpreter vs compiled.png\n",
      "inter\n",
      "inter\n",
      "inter\n",
      "inter\n",
      "inter\n",
      "inter\n"
     ]
    }
   ],
   "source": [
    "lis = [\"hi\", \"Interpreter vs compiled.png\", \"inter\", \"inter\", \"inter\", \"inter\", \"inter\", \"inter\"]\n",
    "\n",
    "for i in lis:\n",
    "    print(i)"
   ]
  },
  {
   "cell_type": "code",
   "execution_count": 18,
   "metadata": {},
   "outputs": [],
   "source": [
    "lis = [\"hi\", \"Interpreter vs compiled.png\", \"inter\", \"inter\", \"inter\", \"inter\", \"inter\", \"inter\"]\n",
    "\n",
    "# for i in lis:\n",
    "#     for j in range(1,3):\n",
    "#         print(j)\n",
    "#     print(i)"
   ]
  },
  {
   "cell_type": "code",
   "execution_count": null,
   "metadata": {},
   "outputs": [],
   "source": []
  },
  {
   "cell_type": "code",
   "execution_count": 23,
   "metadata": {},
   "outputs": [
    {
     "name": "stdout",
     "output_type": "stream",
     "text": [
      "honey bee\n",
      "lion king\n",
      "deer smart\n"
     ]
    }
   ],
   "source": [
    "str = {\"honey\":\"bee\", \"lion\":\"king\",\"deer\":\"smart\"}\n",
    "for i,j in str.items():\n",
    "    print(i,j)"
   ]
  },
  {
   "cell_type": "code",
   "execution_count": 19,
   "metadata": {},
   "outputs": [
    {
     "name": "stdout",
     "output_type": "stream",
     "text": [
      "suba\n",
      "siva\n",
      "hari\n"
     ]
    }
   ],
   "source": [
    "name = [\"suba\", \"siva\",\"hari\"]\n",
    "for i in name:\n",
    "    print(i)"
   ]
  },
  {
   "cell_type": "code",
   "execution_count": 29,
   "metadata": {},
   "outputs": [
    {
     "name": "stdout",
     "output_type": "stream",
     "text": [
      "0 vignesh\n",
      "1 akash\n",
      "2 deeepak\n",
      "3 dinesh\n"
     ]
    }
   ],
   "source": [
    "lis = [\"vignesh\", \"akash\", \"deeepak\", \"dinesh\"]\n",
    "\n",
    "for idx, item in enumerate(lis):\n",
    "    print(idx, item)"
   ]
  },
  {
   "cell_type": "code",
   "execution_count": 33,
   "metadata": {},
   "outputs": [
    {
     "name": "stdout",
     "output_type": "stream",
     "text": [
      " vignesh liks this ice\n",
      " akash liks this briyani\n",
      " deeepak liks this sambar\n",
      " dinesh liks this water\n"
     ]
    }
   ],
   "source": [
    "lis = [\"vignesh\", \"akash\", \"deeepak\", \"dinesh\"]\n",
    "lis1 = [\"ice\", \"briyani\", \"sambar\", \"water\"]\n",
    "\n",
    "for name , food in zip(lis, lis1):\n",
    "    print(f\" {name} liks this {food}\")"
   ]
  },
  {
   "cell_type": "code",
   "execution_count": 39,
   "metadata": {},
   "outputs": [
    {
     "data": {
      "text/plain": [
       "[1, 3, 5, 7, 9, 11]"
      ]
     },
     "execution_count": 39,
     "metadata": {},
     "output_type": "execute_result"
    }
   ],
   "source": [
    "odd_numbers = [i for i in range(1,13) if i % 2 == 1]\n",
    "odd_numbers\n",
    "    "
   ]
  },
  {
   "cell_type": "code",
   "execution_count": 41,
   "metadata": {},
   "outputs": [
    {
     "name": "stdout",
     "output_type": "stream",
     "text": [
      "[('Alice', 100000), ('Carol', 122908)]\n"
     ]
    }
   ],
   "source": [
    "employees = {'Alice' : 100000,\n",
    "             'Bob' : 99817,\n",
    "             'Carol' : 122908,\n",
    "             'Frank' : 88123,\n",
    "             'Eve' : 93121}\n",
    "top_earners = []\n",
    "for key, val in employees.items():\n",
    "    if val >= 100000:\n",
    "        top_earners.append((key,val))\n",
    "print(top_earners)\n",
    "# [('Alice', 100000), ('Carol', 122908)]"
   ]
  },
  {
   "cell_type": "code",
   "execution_count": 42,
   "metadata": {},
   "outputs": [
    {
     "name": "stdout",
     "output_type": "stream",
     "text": [
      "[('Alice', 100000), ('Carol', 122908)]\n"
     ]
    }
   ],
   "source": [
    "## Data\n",
    "employees = {'Alice' : 100000,\n",
    "             'Bob' : 99817,\n",
    "             'Carol' : 122908,\n",
    "             'Frank' : 88123,\n",
    "             'Eve' : 93121}\n",
    "## One-Liner\n",
    "top_earners = [(k, v) for k, v in employees.items() if v >= 100000]\n",
    "## Result\n",
    "print(top_earners)"
   ]
  }
 ],
 "metadata": {
  "kernelspec": {
   "display_name": ".venv",
   "language": "python",
   "name": "python3"
  },
  "language_info": {
   "codemirror_mode": {
    "name": "ipython",
    "version": 3
   },
   "file_extension": ".py",
   "mimetype": "text/x-python",
   "name": "python",
   "nbconvert_exporter": "python",
   "pygments_lexer": "ipython3",
   "version": "3.10.5"
  }
 },
 "nbformat": 4,
 "nbformat_minor": 2
}
