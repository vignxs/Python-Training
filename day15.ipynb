{
 "cells": [
  {
   "cell_type": "code",
   "execution_count": 19,
   "metadata": {},
   "outputs": [
    {
     "name": "stdout",
     "output_type": "stream",
     "text": [
      "deepak\n"
     ]
    }
   ],
   "source": [
    "names = [\"vignesh\",\"akash\",\"dinesh\", [\"vignesh\",\"akash\",\"dinesh\" , [\"vignesh\",\"akash\",\"deepak\"]]]\n",
    "\n",
    "name1= names[3][3][2]\n",
    "print(name1)\n",
    "\n"
   ]
  },
  {
   "cell_type": "code",
   "execution_count": 15,
   "metadata": {},
   "outputs": [
    {
     "name": "stdout",
     "output_type": "stream",
     "text": [
      "2\n",
      "4\n",
      "6\n",
      "8\n"
     ]
    }
   ],
   "source": [
    "# 2,4,6,8 for loop\n",
    "for i in range(2,10,2):\n",
    "    # if i %2 ==0\n",
    "    print(i)"
   ]
  },
  {
   "cell_type": "code",
   "execution_count": null,
   "metadata": {},
   "outputs": [],
   "source": [
    "# 1,3,5,7 while loop\n",
    "\n"
   ]
  },
  {
   "cell_type": "code",
   "execution_count": 23,
   "metadata": {},
   "outputs": [
    {
     "name": "stdout",
     "output_type": "stream",
     "text": [
      "['vignesh', 'akash', 'dinesh', ['vignesh', 'akash', 'VISHAL']]\n"
     ]
    }
   ],
   "source": [
    "names = [\"vignesh\",\"akash\",\"dinesh\",  [\"vignesh\",\"akash\",\"vishal\" ]] #make vishal to VISHAL\n",
    "names[3][2]=names[3][2].upper()\n",
    "print(names)"
   ]
  },
  {
   "cell_type": "code",
   "execution_count": null,
   "metadata": {},
   "outputs": [],
   "source": [
    "kv = {\"vishal\" : \"madurai\", \"vignesh\" : \"chennai\", \"akash\" : \"trichy\"}\n",
    "\n",
    "# vishal lives in madurai "
   ]
  },
  {
   "cell_type": "code",
   "execution_count": null,
   "metadata": {},
   "outputs": [],
   "source": [
    "kv = {\"vishal\" : [\"us\", \"india\", \"uk\"], \"vignesh\" : \"chennai\", \"akash\" : \"trichy\"}\n",
    "# also print uk"
   ]
  },
  {
   "cell_type": "code",
   "execution_count": 6,
   "metadata": {},
   "outputs": [
    {
     "name": "stdout",
     "output_type": "stream",
     "text": [
      "vignesh chennai\n",
      "vignesh chennai\n"
     ]
    }
   ],
   "source": [
    "persons = [\n",
    "    {\n",
    "    'name': \"vignesh\",\n",
    "    \"place\": \"chennai\",\n",
    "    },\n",
    "    {\n",
    "    'name': \"vignesh\",\n",
    "    \"place\": \"chennai\",\n",
    "    }\n",
    "    ]\n",
    "\n",
    "\n",
    "for i in persons:\n",
    "    print(i[\"name\"], i[\"place\"])"
   ]
  }
 ],
 "metadata": {
  "kernelspec": {
   "display_name": "Python 3",
   "language": "python",
   "name": "python3"
  },
  "language_info": {
   "codemirror_mode": {
    "name": "ipython",
    "version": 3
   },
   "file_extension": ".py",
   "mimetype": "text/x-python",
   "name": "python",
   "nbconvert_exporter": "python",
   "pygments_lexer": "ipython3",
   "version": "3.10.5"
  }
 },
 "nbformat": 4,
 "nbformat_minor": 2
}
