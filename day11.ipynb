{
 "cells": [
  {
   "cell_type": "code",
   "execution_count": null,
   "id": "43a4b3c9",
   "metadata": {},
   "outputs": [],
   "source": [
    "# if else"
   ]
  },
  {
   "cell_type": "code",
   "execution_count": 3,
   "id": "10d2deea",
   "metadata": {},
   "outputs": [
    {
     "name": "stdout",
     "output_type": "stream",
     "text": [
      "Audi\n",
      "BMW\n",
      "Subaru\n",
      "Toyota\n"
     ]
    }
   ],
   "source": [
    "cars = ['audi', 'bmw', 'subaru', 'toyota']\n",
    "for car in cars:\n",
    "    if car == 'bmw':\n",
    "        print(car.upper())\n",
    "    else:\n",
    "        print(car.title())\n"
   ]
  },
  {
   "cell_type": "code",
   "execution_count": 5,
   "id": "a09e3642",
   "metadata": {},
   "outputs": [
    {
     "name": "stdout",
     "output_type": "stream",
     "text": [
      "Audi\n",
      "Bmw\n",
      "Subaru\n",
      "Toyota\n"
     ]
    }
   ],
   "source": [
    "cars = ['audi', 'bmw', 'subaru', 'toyota']\n",
    "for car in cars:\n",
    "    if car.upper() == 'BMW':\n",
    "        print(car.upper())\n",
    "    else:\n",
    "        print(car.title())\n"
   ]
  },
  {
   "cell_type": "code",
   "execution_count": null,
   "id": "f8cdb799",
   "metadata": {},
   "outputs": [],
   "source": [
    "# For example, consider a\n",
    "# list of users who are banned from commenting in a forum. You can\n",
    "# check whether a user has been banned before allowing that person to\n",
    "# submit a comment:\n"
   ]
  },
  {
   "cell_type": "code",
   "execution_count": 7,
   "id": "4c919f11",
   "metadata": {},
   "outputs": [
    {
     "name": "stdout",
     "output_type": "stream",
     "text": [
      "Marie, you can post a response if you wish.\n"
     ]
    }
   ],
   "source": [
    "banned_users = ['andrew', 'carolina', 'david']\n",
    "user = 'marie'\n",
    "if user not in banned_users:\n",
    "    print(f\"{user.title()}, you can post a response if you wish.\")\n"
   ]
  },
  {
   "cell_type": "code",
   "execution_count": 10,
   "id": "5758f80d",
   "metadata": {},
   "outputs": [
    {
     "name": "stdout",
     "output_type": "stream",
     "text": [
      "Sorry, you are too young to vote.\n",
      "Please register to vote as soon as you turn 18!\n"
     ]
    }
   ],
   "source": [
    "age = 17\n",
    "if age >= 18:\n",
    "    print(\"You are old enough to vote!\")\n",
    "    print(\"Have you registered to vote yet?\")\n",
    "else:\n",
    "    print(\"Sorry, you are too young to vote.\")\n",
    "    print(\"Please register to vote as soon as you turn 18!\")"
   ]
  },
  {
   "cell_type": "code",
   "execution_count": null,
   "id": "fd071a69",
   "metadata": {},
   "outputs": [],
   "source": [
    "# consider an amusement park that charges\n",
    "# different rates for different age groups:\n",
    "# Admission for anyone under age 4 is free.\n",
    "# Admission for anyone between the ages of 4 and 18 is $25.\n",
    "# Admission for anyone age 18 or older is $40.\n"
   ]
  },
  {
   "cell_type": "code",
   "execution_count": 9,
   "id": "ce8493e7",
   "metadata": {},
   "outputs": [
    {
     "ename": "IndentationError",
     "evalue": "expected an indented block (<ipython-input-9-776dfd4793e3>, line 7)",
     "output_type": "error",
     "traceback": [
      "\u001b[1;36m  File \u001b[1;32m\"<ipython-input-9-776dfd4793e3>\"\u001b[1;36m, line \u001b[1;32m7\u001b[0m\n\u001b[1;33m    print(\"Your admission cost is $40.\")\u001b[0m\n\u001b[1;37m        ^\u001b[0m\n\u001b[1;31mIndentationError\u001b[0m\u001b[1;31m:\u001b[0m expected an indented block\n"
     ]
    }
   ],
   "source": [
    "# age = 12\n",
    "# if age < 4:\n",
    "#     print(\"Your admission cost is $0.\")\n",
    "# elif age < 18:\n",
    "#     print(\"Your admission cost is $25.\")\n",
    "# else:\n",
    "#     print(\"Your admission cost is $40.\")\n"
   ]
  },
  {
   "cell_type": "code",
   "execution_count": 10,
   "id": "46016c89",
   "metadata": {},
   "outputs": [
    {
     "name": "stdout",
     "output_type": "stream",
     "text": [
      "Your admission cost is $25.\n"
     ]
    }
   ],
   "source": [
    "# age = 12\n",
    "# if age < 4:\n",
    "#     price = 0\n",
    "# elif age < 18:\n",
    "#     price = 25\n",
    "# elif age < 65:\n",
    "#     price = 40\n",
    "# elif age >= 65:\n",
    "#     price = 20\n",
    "print(f\"Your admission cost is ${price}.\")"
   ]
  },
  {
   "cell_type": "code",
   "execution_count": null,
   "id": "1856f307",
   "metadata": {},
   "outputs": [],
   "source": [
    "# If someone requests a twotopping pizza, you’ll need to be sure to include both toppings on their\n",
    "# pizza"
   ]
  },
  {
   "cell_type": "code",
   "execution_count": 15,
   "id": "101f1a95",
   "metadata": {},
   "outputs": [
    {
     "name": "stdout",
     "output_type": "stream",
     "text": [
      "\n",
      "Finished making your pizza!\n"
     ]
    }
   ],
   "source": [
    "requested_toppings = ['mushrooms', 'extra cheese']\n",
    "if 'mushrooms' in requested_toppings:\n",
    "    print(\"Adding mushrooms.\")\n",
    "elif 'pepperoni' in requested_toppings:\n",
    "    print(\"Adding pepperoni.\")\n",
    "elif 'extra cheese' in requested_toppings:\n",
    "    print(\"Adding extra cheese.\")\n",
    "else:\n",
    "    print(\"\\nFinished making your pizza!\")\n"
   ]
  },
  {
   "cell_type": "code",
   "execution_count": 14,
   "id": "fecb426d",
   "metadata": {},
   "outputs": [
    {
     "name": "stdout",
     "output_type": "stream",
     "text": [
      "Adding mushrooms.\n",
      "Adding extra cheese.\n",
      "\n",
      "Finished making your pizza!\n"
     ]
    }
   ],
   "source": [
    "requested_toppings = ['mushrooms', 'extra cheese']\n",
    "\n",
    "if 'mushrooms' in requested_toppings:\n",
    "    print(\"Adding mushrooms.\")\n",
    "if 'pepperoni' in requested_toppings:\n",
    "    print(\"Adding pepperoni.\")\n",
    "if 'extra cheese' in requested_toppings:\n",
    "    print(\"Adding extra cheese.\")\n",
    "    \n",
    "print(\"\\nFinished making your pizza!\")"
   ]
  },
  {
   "cell_type": "code",
   "execution_count": 19,
   "id": "7312d4e0",
   "metadata": {},
   "outputs": [
    {
     "name": "stdout",
     "output_type": "stream",
     "text": [
      "\n",
      "Finished making your pizza!\n"
     ]
    }
   ],
   "source": [
    "requested_toppings = []\n",
    "\n",
    "for requested_topping in requested_toppings:\n",
    "    if requested_topping == 'green peppers':\n",
    "        print(\"Sorry, we are out of green peppers right now.\")\n",
    "    else:\n",
    "        print(f\"Adding {requested_topping}.\")\n",
    "        \n",
    "print(\"\\nFinished making your pizza!\")"
   ]
  },
  {
   "cell_type": "code",
   "execution_count": 20,
   "id": "872adde8",
   "metadata": {
    "scrolled": true
   },
   "outputs": [
    {
     "name": "stdout",
     "output_type": "stream",
     "text": [
      "Are you sure you want a plain pizza?\n"
     ]
    }
   ],
   "source": [
    "requested_toppings = []\n",
    "\n",
    "if requested_toppings:\n",
    "    for requested_topping in requested_toppings:\n",
    "        print(f\"Adding {requested_topping}.\")\n",
    "    print(\"\\nFinished making your pizza!\")\n",
    "else:\n",
    "    print(\"Are you sure you want a plain pizza?\")\n"
   ]
  },
  {
   "cell_type": "code",
   "execution_count": 21,
   "id": "279c3dff",
   "metadata": {},
   "outputs": [
    {
     "name": "stdout",
     "output_type": "stream",
     "text": [
      "Adding mushrooms.\n",
      "Sorry, we don't have french fries.\n",
      "Adding extra cheese.\n",
      "\n",
      "Finished making your pizza!\n"
     ]
    }
   ],
   "source": [
    "available_toppings = ['mushrooms', 'olives', 'green peppers','pepperoni', 'pineapple', 'extra cheese']\n",
    "requested_toppings = ['mushrooms', 'french fries', 'extra cheese']\n",
    "\n",
    "for requested_topping in requested_toppings:\n",
    "\n",
    "    if requested_topping in available_toppings:\n",
    "        print(f\"Adding {requested_topping}.\")\n",
    "    else:\n",
    "        print(f\"Sorry, we don't have {requested_topping}.\")\n",
    "\n",
    "print(\"\\nFinished making your pizza!\")"
   ]
  },
  {
   "cell_type": "code",
   "execution_count": null,
   "id": "9a627521",
   "metadata": {},
   "outputs": [],
   "source": [
    "# Stages of Life: Write an if-elif-else chain that determines a person’s stage of\n",
    "# life. Set a value for the variable age, and then:\n",
    "# If the person is less than 2 years old, print a message that the\n",
    "# person is a baby.\n",
    "# If the person is at least 2 years old but less than 4, print a\n",
    "# message that the person is a toddler.\n",
    "# If the person is at least 4 years old but less than 13, print a\n",
    "# message that the person is a kid.\n",
    "# If the person is at least 13 years old but less than 20, print a\n",
    "# message that the person is a teenager.\n",
    "# If the person is at least 20 years old but less than 65, print a\n",
    "# message that the person is an adult.\n",
    "# If the person is age 65 or older, print a message that the\n",
    "# person is an elder.\n"
   ]
  },
  {
   "cell_type": "code",
   "execution_count": null,
   "id": "770a76ce",
   "metadata": {},
   "outputs": [],
   "source": [
    "# 5-10. Checking Usernames: Do the following to create a program that simulates how\n",
    "# websites ensure that everyone has a unique username.\n",
    "# Make a list of five or more usernames called current_users.\n",
    "# Make another list of five usernames called new_users. Make\n",
    "# sure one or two of the new usernames are also in the\n",
    "# current_users list.\n",
    "# Loop through the new_users list to see if each new username\n",
    "# has already been used. If it has, print a message that the\n",
    "# person will need to enter a new username. If a username has\n",
    "# not been used, print a message saying that the username is\n",
    "# available.\n",
    "# Make sure your comparison is case insensitive. If 'John' has\n",
    "# been used, 'JOHN' should not be accepted. (To do this, you’ll\n",
    "# need to make a copy of current_users containing the lowercase\n",
    "# versions of all existing users.)\n"
   ]
  }
 ],
 "metadata": {
  "kernelspec": {
   "display_name": "Python 3 (ipykernel)",
   "language": "python",
   "name": "python3"
  },
  "language_info": {
   "codemirror_mode": {
    "name": "ipython",
    "version": 3
   },
   "file_extension": ".py",
   "mimetype": "text/x-python",
   "name": "python",
   "nbconvert_exporter": "python",
   "pygments_lexer": "ipython3",
   "version": "3.6.5"
  }
 },
 "nbformat": 4,
 "nbformat_minor": 5
}
