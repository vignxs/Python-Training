{
 "cells": [
  {
   "cell_type": "code",
   "execution_count": 1,
   "id": "7aa7f76b",
   "metadata": {},
   "outputs": [],
   "source": [
    "# LOOPS"
   ]
  },
  {
   "cell_type": "code",
   "execution_count": 15,
   "id": "2d5da608",
   "metadata": {},
   "outputs": [
    {
     "name": "stdout",
     "output_type": "stream",
     "text": [
      "0\n"
     ]
    }
   ],
   "source": [
    "for i in range(1):\n",
    "    print(i)"
   ]
  },
  {
   "cell_type": "code",
   "execution_count": 17,
   "id": "394571d2",
   "metadata": {},
   "outputs": [
    {
     "name": "stdout",
     "output_type": "stream",
     "text": [
      "Akash\n",
      "Dinesh\n",
      "Vignesh\n",
      "Vijay\n",
      "Deepak\n",
      "Vishal\n"
     ]
    }
   ],
   "source": [
    "classa = ['akash', 'dinesh' ,'vignesh', 'vijay', 'deepak' ,'vishal']\n",
    "\n",
    "classa[0]\n",
    "\n",
    "for i in classa:\n",
    "    print(i.title())\n"
   ]
  },
  {
   "cell_type": "code",
   "execution_count": null,
   "id": "19c49230",
   "metadata": {},
   "outputs": [],
   "source": []
  },
  {
   "cell_type": "code",
   "execution_count": 19,
   "id": "1c1786d9",
   "metadata": {},
   "outputs": [
    {
     "name": "stdout",
     "output_type": "stream",
     "text": [
      "Akash\n",
      "Dinesh\n",
      "Vignesh\n",
      "Vijay\n",
      "Deepak\n",
      "Vishal\n"
     ]
    }
   ],
   "source": [
    "classa = ['akash', 'dinesh' ,'vignesh', 'vijay', 'deepak' ,'vishal']\n",
    "\n",
    "\n",
    "for i in range(len(classa)):\n",
    "    print(classa[i].title())"
   ]
  },
  {
   "cell_type": "code",
   "execution_count": 34,
   "id": "4efc00ec",
   "metadata": {},
   "outputs": [
    {
     "name": "stdout",
     "output_type": "stream",
     "text": [
      "Akash\n",
      "Dinesh\n",
      "Vignesh\n",
      "Vijay\n",
      "Deepak\n",
      "Vishal\n"
     ]
    }
   ],
   "source": [
    "classa = ['akash', 'dinesh' ,'vignesh', 'vijay', 'deepak' ,'vishal']\n",
    "\n",
    "i = 0\n",
    "\n",
    "while i < len(classa):\n",
    "    print(classa[i].title())\n",
    "    i +=1"
   ]
  },
  {
   "cell_type": "code",
   "execution_count": 35,
   "id": "49b1e9a6",
   "metadata": {},
   "outputs": [],
   "source": [
    "# List Comprehension"
   ]
  },
  {
   "cell_type": "code",
   "execution_count": 47,
   "id": "f666fd62",
   "metadata": {},
   "outputs": [
    {
     "name": "stdout",
     "output_type": "stream",
     "text": [
      "['Deepak']\n"
     ]
    }
   ],
   "source": [
    "classa = ['akash', 'dinesh' ,'vignesh', 'vijay', 'deepak' ,'vishal']\n",
    "titled_classa = []\n",
    "for i in classa:\n",
    "    if  i == \"deepak\":\n",
    "        titled_classa.append(i.title())\\\n",
    "        \n",
    "print(titled_classa)"
   ]
  },
  {
   "cell_type": "code",
   "execution_count": 48,
   "id": "e5000a99",
   "metadata": {},
   "outputs": [
    {
     "name": "stdout",
     "output_type": "stream",
     "text": [
      "['Deepak']\n"
     ]
    }
   ],
   "source": [
    "classa = ['akash', 'dinesh' ,'vignesh', 'vijay', 'deepak' ,'vishal']\n",
    "titled_classa = [ i.title() for i in classa  if i == \"deepak\"   ]\n",
    "\n",
    "print(titled_classa)"
   ]
  }
 ],
 "metadata": {
  "kernelspec": {
   "display_name": "Python 3 (ipykernel)",
   "language": "python",
   "name": "python3"
  },
  "language_info": {
   "codemirror_mode": {
    "name": "ipython",
    "version": 3
   },
   "file_extension": ".py",
   "mimetype": "text/x-python",
   "name": "python",
   "nbconvert_exporter": "python",
   "pygments_lexer": "ipython3",
   "version": "3.6.5"
  }
 },
 "nbformat": 4,
 "nbformat_minor": 5
}
