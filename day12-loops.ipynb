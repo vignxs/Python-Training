{
 "cells": [
  {
   "cell_type": "markdown",
   "id": "78488a0c",
   "metadata": {},
   "source": []
  },
  {
   "cell_type": "code",
   "execution_count": 4,
   "id": "e0e177ba",
   "metadata": {},
   "outputs": [
    {
     "name": "stdout",
     "output_type": "stream",
     "text": [
      "hi\n",
      "ok\\\n",
      "jj\n",
      "jj\n",
      "quit\n"
     ]
    }
   ],
   "source": [
    "prompt = \"\\nTell me something, and I will repeat it back to you:\"\n",
    "prompt += \"\\nEnter 'quit' to end the program. \"\n",
    "message = \"\"\n",
    "while message != 'quit':\n",
    "    message = input(prompt)\n",
    "    print(message)\n"
   ]
  },
  {
   "cell_type": "code",
   "execution_count": 5,
   "id": "ccd15303",
   "metadata": {},
   "outputs": [
    {
     "name": "stdout",
     "output_type": "stream",
     "text": [
      "hi\n",
      "hi\n"
     ]
    }
   ],
   "source": [
    "prompt = \"\\nTell me something, and I will repeat it back to you:\"\n",
    "prompt += \"\\nEnter 'quit' to end the program. \"\n",
    "active = True\n",
    "\n",
    "while active:\n",
    "    message = input(prompt)\n",
    "    if message == 'quit':\n",
    "        active = False\n",
    "    else:\n",
    "        print(message)\n"
   ]
  },
  {
   "cell_type": "code",
   "execution_count": 6,
   "id": "79e39ad8",
   "metadata": {},
   "outputs": [
    {
     "name": "stdout",
     "output_type": "stream",
     "text": [
      "I'd love to go to Chennai!\n",
      "I'd love to go to Usa!\n"
     ]
    }
   ],
   "source": [
    "prompt = \"\\nPlease enter the name of a city you have visited:\"\n",
    "prompt += \"\\n(Enter 'quit' when you are finished.) \"\n",
    "while True:\n",
    "    city = input(prompt)\n",
    "    if city == 'quit':\n",
    "        break\n",
    "    else:\n",
    "        print(f\"I'd love to go to {city.title()}!\")"
   ]
  },
  {
   "cell_type": "code",
   "execution_count": 9,
   "id": "11679443",
   "metadata": {},
   "outputs": [
    {
     "name": "stdout",
     "output_type": "stream",
     "text": [
      "1\n",
      "3\n",
      "5\n",
      "7\n",
      "9\n"
     ]
    }
   ],
   "source": [
    "current_number = 0\n",
    "while current_number < 10:\n",
    "    current_number += 1\n",
    "    if current_number % 2 == 0:\n",
    "        continue\n",
    "    print(current_number)"
   ]
  },
  {
   "cell_type": "code",
   "execution_count": null,
   "id": "5f54f056",
   "metadata": {},
   "outputs": [],
   "source": [
    "# 7-4. Pizza Toppings: Write a loop that prompts the user to enter a series of pizza\n",
    "# toppings until they enter a 'quit' value. As they enter each topping, print a message\n",
    "# saying you’ll add that topping to their pizza.\n",
    "\n",
    "# 7-5. Movie Tickets: A movie theater charges different ticket prices depending on a\n",
    "# person’s age. If a person is under the age of 3, the ticket is free; if they are between 3\n",
    "# and 12, the ticket is $10; and if they are over age 12, the ticket is $15. Write a loop in\n",
    "# which you ask users their age, and then tell them the cost of their movie ticket.\n",
    "\n",
    "# 7-6. Three Exits: Write different versions of either Exercise 7-4 or Exercise 7-5 that do\n",
    "# each of the following at least once:\n",
    "# Use a conditional test in the while statement to stop the loop.\n",
    "# Use an active variable to control how long the loop runs.\n",
    "# Use a break statement to exit the loop when the user enters a\n",
    "# 'quit' value."
   ]
  },
  {
   "cell_type": "code",
   "execution_count": null,
   "id": "e4e48a1b",
   "metadata": {},
   "outputs": [],
   "source": [
    "# Consider a list of newly registered but unverified users of a website.\n",
    "# After we verify these users, how can we move them to a separate list of\n",
    "# confirmed users? One way would be to use a while loop to pull users\n",
    "# from the list of unconfirmed users as we verify them and then add them\n",
    "# to a separate list of confirmed users. Here’s what that code might look\n",
    "# like:\n",
    "# confirmed"
   ]
  },
  {
   "cell_type": "code",
   "execution_count": 10,
   "id": "274ba5ab",
   "metadata": {},
   "outputs": [
    {
     "name": "stdout",
     "output_type": "stream",
     "text": [
      "Verifying user: Candace\n",
      "Verifying user: Brian\n",
      "Verifying user: Alice\n",
      "\n",
      "The following users have been confirmed:\n",
      "Candace\n",
      "Brian\n",
      "Alice\n"
     ]
    }
   ],
   "source": [
    "# Start with users that need to be verified,\n",
    "# and an empty list to hold confirmed users.\n",
    "unconfirmed_users = ['alice', 'brian', 'candace']\n",
    "confirmed_users = []\n",
    "# Verify each user until there are no more unconfirmed users.\n",
    "# Move each verified user into the list of confirmed users.\n",
    "\n",
    "\n",
    "while unconfirmed_users:\n",
    "       \n",
    "    current_user = unconfirmed_users.pop()\n",
    "    print(f\"Verifying user: {current_user.title()}\")\n",
    "    confirmed_users.append(current_user)\n",
    "    # Display all confirmed users.\n",
    "print(\"\\nThe following users have been confirmed:\")\n",
    "for confirmed_user in confirmed_users:\n",
    "    print(confirmed_user.title())\n"
   ]
  },
  {
   "cell_type": "code",
   "execution_count": 12,
   "id": "7464b5dd",
   "metadata": {},
   "outputs": [
    {
     "name": "stdout",
     "output_type": "stream",
     "text": [
      "['dog', 'cat', 'dog', 'goldfish', 'cat', 'rabbit', 'cat']\n",
      "['cat', 'dog', 'goldfish', 'cat', 'rabbit', 'cat']\n",
      "['cat', 'goldfish', 'cat', 'rabbit', 'cat']\n"
     ]
    }
   ],
   "source": [
    "# Say you have a list of pets with the value 'cat' repeated several times.\n",
    "# To remove all instances of that value, you can run a while loop until\n",
    "# 'cat' is no longer in the list, as shown here:\n",
    "# pets.py\n",
    "pets = ['dog', 'cat', 'dog', 'goldfish', 'cat', 'rabbit', 'cat']\n",
    "print(pets)\n",
    "\n",
    "while 'dog' in pets:\n",
    "    pets.remove('dog')\n",
    "    print(pets)\n"
   ]
  },
  {
   "cell_type": "code",
   "execution_count": 15,
   "id": "b960e418",
   "metadata": {},
   "outputs": [
    {
     "name": "stdout",
     "output_type": "stream",
     "text": [
      "\n",
      "--- Poll Results ---\n",
      "vignesh would like to climb yes.\n",
      "akash would like to climb no.\n",
      "dinesh would like to climb no.\n"
     ]
    }
   ],
   "source": [
    "# Filling a Dictionary with User Input\n",
    "responses = {}\n",
    "# Set a flag to indicate that polling is active.\n",
    "polling_active = True\n",
    "\n",
    "while polling_active:\n",
    "# Prompt for the person's name and response.\n",
    "    name = input(\"\\nWhat is your name? \")\n",
    "    response = input(\"Which mountain would you like to climb someday? \")\n",
    "# Store the response in the dictionary.\n",
    "    responses[name] = response\n",
    "# Find out if anyone else is going to take the poll.\n",
    "    repeat = input(\"Would you like to let another person respond? (yes/no) \")\n",
    "    if repeat == 'no':\n",
    "        polling_active = False\n",
    "        \n",
    "# Polling is complete. Show the results.\n",
    "print(\"\\n--- Poll Results ---\")\n",
    "for name, response in responses.items():\n",
    "    print(f\"{name} would like to climb {response}.\")"
   ]
  },
  {
   "cell_type": "code",
   "execution_count": null,
   "id": "d6334d9e",
   "metadata": {},
   "outputs": [],
   "source": [
    "# 7-8. Deli: Make a list called sandwich_orders and fill it with the names of various\n",
    "# sandwiches. Then make an empty list called finished_sandwiches. Loop through the\n",
    "# list of sandwich orders and print a message for each order, such as I made your tuna\n",
    "# sandwich. As each sandwich is made, move it to the list of finished sandwiches. After\n",
    "# all the sandwiches have been made, print a message listing each sandwich that was\n",
    "# made.\n",
    "\n",
    "# 7-10. Dream Vacation: Write a program that polls users about their dream vacation.\n",
    "# Write a prompt similar to If you could visit one place in the world, where would you go?\n",
    "# Include a block of code that prints the results of the poll.\n",
    "\n",
    "\n",
    "# write a program that removes duplicate from the list:\n"
   ]
  }
 ],
 "metadata": {
  "kernelspec": {
   "display_name": "Python 3 (ipykernel)",
   "language": "python",
   "name": "python3"
  },
  "language_info": {
   "codemirror_mode": {
    "name": "ipython",
    "version": 3
   },
   "file_extension": ".py",
   "mimetype": "text/x-python",
   "name": "python",
   "nbconvert_exporter": "python",
   "pygments_lexer": "ipython3",
   "version": "3.10.5"
  }
 },
 "nbformat": 4,
 "nbformat_minor": 5
}
