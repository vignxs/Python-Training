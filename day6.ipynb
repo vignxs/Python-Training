{
 "cells": [
  {
   "cell_type": "markdown",
   "id": "12480cae",
   "metadata": {},
   "source": [
    "# LISTS"
   ]
  },
  {
   "cell_type": "markdown",
   "id": "7ae8eaf6",
   "metadata": {},
   "source": [
    "### * ordered\n",
    "### * changeable\n",
    "### * allow duplicates"
   ]
  },
  {
   "cell_type": "code",
   "execution_count": 1,
   "id": "3afeaea1",
   "metadata": {
    "scrolled": true
   },
   "outputs": [
    {
     "name": "stdout",
     "output_type": "stream",
     "text": [
      "['vignesh', 'akash']\n",
      "['vignesh', 'akash', 'dinesh']\n",
      "['vignesh', 'akash']\n",
      "['vignesh', 'akash', 'vignesh']\n"
     ]
    }
   ],
   "source": [
    "a = 0\n",
    "# str = \"vignesh\"\n",
    "\n",
    "# print(str[0])\n",
    "\n",
    "class_boys = [\"vignesh\", \"akash\" ]\n",
    "\n",
    "print(class_boys)\n",
    "\n",
    "class_boys.append(\"dinesh\")\n",
    "\n",
    "print(class_boys)\n",
    "\n",
    "class_boys.remove(\"dinesh\")\n",
    "\n",
    "print(class_boys)\n",
    "\n",
    "class_boys.append(\"vignesh\")\n",
    "\n",
    "print(class_boys)"
   ]
  },
  {
   "cell_type": "code",
   "execution_count": 2,
   "id": "c7666274",
   "metadata": {},
   "outputs": [
    {
     "name": "stdout",
     "output_type": "stream",
     "text": [
      "<class 'list'>\n",
      "{'key': 'value', 'number': 12}\n"
     ]
    }
   ],
   "source": [
    "list1 = [\"ahghghgghg\", 1, 1.0, ['vignesh', 'akash', 'dinesh'], { \"key\": \"value\", \"number\" : 12} , ('vignesh', 'akash', 'dinesh') , {'vignesh', 'akash', 'dinesh'}]\n",
    "\n",
    "print(type(list1))\n",
    "\n",
    "print(list1[4])\n"
   ]
  },
  {
   "cell_type": "code",
   "execution_count": 6,
   "id": "2f35f553",
   "metadata": {},
   "outputs": [
    {
     "name": "stdout",
     "output_type": "stream",
     "text": [
      "<class 'int'>\n",
      "['key', 'number']\n"
     ]
    }
   ],
   "source": [
    "num = int(1)\n",
    "print(type(num))\n",
    "\n",
    "nums = { \"key\": \"value\", \"number\" : 12}\n",
    "\n",
    "test = list(nums)\n",
    "print(test)"
   ]
  },
  {
   "cell_type": "code",
   "execution_count": 19,
   "id": "cbbfc80e",
   "metadata": {},
   "outputs": [
    {
     "name": "stdout",
     "output_type": "stream",
     "text": [
      "['vignesh', 'akash']\n"
     ]
    }
   ],
   "source": [
    "names = ['vignesh', 'akash', 'dinesh']\n",
    "\n",
    "print(names[:-1])"
   ]
  },
  {
   "cell_type": "code",
   "execution_count": 41,
   "id": "bf4dcdb7",
   "metadata": {},
   "outputs": [
    {
     "name": "stdout",
     "output_type": "stream",
     "text": [
      "vijay exists in names\n"
     ]
    }
   ],
   "source": [
    "class10_boys_names = ['vignesh', 'akash', 'dinesh', \"vijay\"]\n",
    "\n",
    "name = \"vijay\"\n",
    "\n",
    "if name in class10_boys_names:\n",
    "    print(f\"{name} exists in names\")\n",
    "else:\n",
    "    print(f\"{name} not exists in names\")\n",
    "    \n",
    "    \n",
    "    \n",
    "# print(name in names )"
   ]
  },
  {
   "cell_type": "code",
   "execution_count": 43,
   "id": "7984356b",
   "metadata": {},
   "outputs": [
    {
     "name": "stdout",
     "output_type": "stream",
     "text": [
      "['akash', 'bala', 'dinesh', 'vignesh']\n"
     ]
    }
   ],
   "source": [
    "names = ['akash', 'dinesh' ,'vignesh']\n",
    "\n",
    "new_student = \"bala\"\n",
    "\n",
    "# names.append(new_student)\n",
    "\n",
    "names.insert(1, new_student )\n",
    "\n",
    "print(names)\n",
    "\n"
   ]
  },
  {
   "cell_type": "code",
   "execution_count": 3,
   "id": "4894437d",
   "metadata": {},
   "outputs": [
    {
     "data": {
      "text/plain": [
       "['akash', 'dinesh', 'deepak']"
      ]
     },
     "execution_count": 3,
     "metadata": {},
     "output_type": "execute_result"
    }
   ],
   "source": [
    "names = ['akash', 'dinesh' ,'vignesh']\n",
    "\n",
    "names[2] = 'deepak'\n",
    "\n",
    "names"
   ]
  },
  {
   "cell_type": "code",
   "execution_count": 64,
   "id": "50552d4a",
   "metadata": {},
   "outputs": [
    {
     "name": "stdout",
     "output_type": "stream",
     "text": [
      "None\n"
     ]
    }
   ],
   "source": [
    "names = ['akash', 'dinesh' ,'vignesh']\n",
    "\n",
    "print(names.sort())"
   ]
  },
  {
   "cell_type": "code",
   "execution_count": 71,
   "id": "3f9c0829",
   "metadata": {},
   "outputs": [
    {
     "name": "stdout",
     "output_type": "stream",
     "text": [
      "['akash', 'dinesh', 'vignesh', 'vijay', 'deepak', 'vishal']\n"
     ]
    }
   ],
   "source": [
    "classa = ['akash', 'dinesh' ,'vignesh']\n",
    "classb = ('vijay', 'deepak' ,'vishal')\n",
    "\n",
    "classa.extend(classb)\n",
    "print(classa)"
   ]
  },
  {
   "cell_type": "code",
   "execution_count": 77,
   "id": "988640c8",
   "metadata": {},
   "outputs": [
    {
     "data": {
      "text/plain": [
       "['akash', 'vignesh']"
      ]
     },
     "execution_count": 77,
     "metadata": {},
     "output_type": "execute_result"
    }
   ],
   "source": [
    "classa = ['akash', 'dinesh' ,'vignesh']\n",
    "\n",
    "classa.pop(1)\n",
    "\n",
    "classa"
   ]
  },
  {
   "cell_type": "code",
   "execution_count": 78,
   "id": "fffee663",
   "metadata": {},
   "outputs": [
    {
     "data": {
      "text/plain": [
       "[]"
      ]
     },
     "execution_count": 78,
     "metadata": {},
     "output_type": "execute_result"
    }
   ],
   "source": [
    "classa = ['akash', 'dinesh' ,'vignesh']\n",
    "\n",
    "classa.clear()\n",
    "\n",
    "classa"
   ]
  },
  {
   "cell_type": "code",
   "execution_count": 80,
   "id": "7cdeb8f3",
   "metadata": {},
   "outputs": [
    {
     "data": {
      "text/plain": [
       "['vignesh', 'dinesh', 'akash']"
      ]
     },
     "execution_count": 80,
     "metadata": {},
     "output_type": "execute_result"
    }
   ],
   "source": [
    "classa = ['akash', 'dinesh' ,'vignesh']\n",
    "\n",
    "classa.reverse()\n",
    "\n",
    "classa"
   ]
  },
  {
   "cell_type": "code",
   "execution_count": 81,
   "id": "fccb1b97",
   "metadata": {},
   "outputs": [
    {
     "data": {
      "text/plain": [
       "['akash', 'dinesh', 'vignesh', 'vijay']"
      ]
     },
     "execution_count": 81,
     "metadata": {},
     "output_type": "execute_result"
    }
   ],
   "source": [
    "classa =['vignesh', 'akash', 'dinesh', \"vijay\"]\n",
    "\n",
    "classa.sort()\n",
    "\n",
    "classa"
   ]
  },
  {
   "cell_type": "code",
   "execution_count": 4,
   "id": "2b37574d",
   "metadata": {},
   "outputs": [
    {
     "ename": "TypeError",
     "evalue": "'str' object does not support item assignment",
     "output_type": "error",
     "traceback": [
      "\u001b[1;31m---------------------------------------------------------------------------\u001b[0m",
      "\u001b[1;31mTypeError\u001b[0m                                 Traceback (most recent call last)",
      "\u001b[1;32m<ipython-input-4-b413ffe06bc6>\u001b[0m in \u001b[0;36m<module>\u001b[1;34m\u001b[0m\n\u001b[0;32m      1\u001b[0m \u001b[0mstr1\u001b[0m \u001b[1;33m=\u001b[0m \u001b[1;34m\"121212\"\u001b[0m\u001b[1;33m\u001b[0m\u001b[0m\n\u001b[0;32m      2\u001b[0m \u001b[1;33m\u001b[0m\u001b[0m\n\u001b[1;32m----> 3\u001b[1;33m \u001b[0mstr1\u001b[0m\u001b[1;33m[\u001b[0m\u001b[1;36m0\u001b[0m\u001b[1;33m]\u001b[0m \u001b[1;33m=\u001b[0m \u001b[1;34m'10'\u001b[0m\u001b[1;33m\u001b[0m\u001b[0m\n\u001b[0m",
      "\u001b[1;31mTypeError\u001b[0m: 'str' object does not support item assignment"
     ]
    }
   ],
   "source": [
    "# str1 = \"121212\"\n",
    "\n",
    "# str1[0] = '10'"
   ]
  }
 ],
 "metadata": {
  "kernelspec": {
   "display_name": "Python 3 (ipykernel)",
   "language": "python",
   "name": "python3"
  },
  "language_info": {
   "codemirror_mode": {
    "name": "ipython",
    "version": 3
   },
   "file_extension": ".py",
   "mimetype": "text/x-python",
   "name": "python",
   "nbconvert_exporter": "python",
   "pygments_lexer": "ipython3",
   "version": "3.6.5"
  }
 },
 "nbformat": 4,
 "nbformat_minor": 5
}
