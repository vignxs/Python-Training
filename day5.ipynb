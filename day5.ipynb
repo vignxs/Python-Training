{
 "cells": [
  {
   "cell_type": "markdown",
   "id": "608b81ee",
   "metadata": {},
   "source": [
    "# Boolean DataType"
   ]
  },
  {
   "cell_type": "code",
   "execution_count": 1,
   "id": "59a0e900",
   "metadata": {},
   "outputs": [
    {
     "name": "stdout",
     "output_type": "stream",
     "text": [
      "True\n"
     ]
    }
   ],
   "source": [
    "print(3 == 3)"
   ]
  },
  {
   "cell_type": "code",
   "execution_count": 3,
   "id": "0edcf01f",
   "metadata": {},
   "outputs": [
    {
     "name": "stdout",
     "output_type": "stream",
     "text": [
      "False\n"
     ]
    }
   ],
   "source": [
    "print(3 == 1)"
   ]
  },
  {
   "cell_type": "code",
   "execution_count": 4,
   "id": "cea0a256",
   "metadata": {},
   "outputs": [
    {
     "name": "stdout",
     "output_type": "stream",
     "text": [
      "True\n"
     ]
    }
   ],
   "source": [
    "print(3+3 == 6)"
   ]
  },
  {
   "cell_type": "code",
   "execution_count": 6,
   "id": "f408f3bf",
   "metadata": {},
   "outputs": [
    {
     "name": "stdout",
     "output_type": "stream",
     "text": [
      "True\n"
     ]
    }
   ],
   "source": [
    "print(bool(1))"
   ]
  },
  {
   "cell_type": "code",
   "execution_count": 8,
   "id": "44435912",
   "metadata": {},
   "outputs": [
    {
     "name": "stdout",
     "output_type": "stream",
     "text": [
      "False\n"
     ]
    }
   ],
   "source": [
    "print(bool(-1))"
   ]
  },
  {
   "cell_type": "code",
   "execution_count": 4,
   "id": "07ace3e6",
   "metadata": {},
   "outputs": [
    {
     "name": "stdout",
     "output_type": "stream",
     "text": [
      "False\n"
     ]
    }
   ],
   "source": [
    "print(bool(None))"
   ]
  },
  {
   "cell_type": "code",
   "execution_count": 14,
   "id": "747540e1",
   "metadata": {},
   "outputs": [
    {
     "name": "stdout",
     "output_type": "stream",
     "text": [
      "False\n"
     ]
    }
   ],
   "source": [
    "print( bool( 0 ) )"
   ]
  },
  {
   "cell_type": "code",
   "execution_count": 9,
   "id": "7ee56812",
   "metadata": {},
   "outputs": [
    {
     "name": "stdout",
     "output_type": "stream",
     "text": [
      "False\n"
     ]
    }
   ],
   "source": [
    "var = ()\n",
    "print(bool(var))"
   ]
  },
  {
   "cell_type": "markdown",
   "id": "f6c94b13",
   "metadata": {},
   "source": [
    "# Operators"
   ]
  },
  {
   "cell_type": "markdown",
   "id": "6cf2c9f1",
   "metadata": {},
   "source": [
    "### Arithmetic operators\n",
    "### Assignment operators\n",
    "### Comparison operators\n",
    "### Logical operators\n",
    "### Identity operators\n",
    "### Membership operators\n",
    "### Bitwise operators"
   ]
  },
  {
   "cell_type": "code",
   "execution_count": 18,
   "id": "559c0306",
   "metadata": {},
   "outputs": [],
   "source": [
    "# Arithmetic operators\n",
    "\n",
    "# + - * / // ** %\n",
    "\n",
    "+\tAddition\t         x + y\t\n",
    "-\tSubtraction\t         x - y\t\n",
    "*\tMultiplication\t     x * y\t\n",
    "/\tDivision\t         x / y\t\n",
    "%\tModulus\t             x % y\t\n",
    "**\tExponentiation\t     x ** y\t\n",
    "//\tFloor division\t     x // y"
   ]
  },
  {
   "cell_type": "code",
   "execution_count": 29,
   "id": "41bee114",
   "metadata": {},
   "outputs": [
    {
     "name": "stdout",
     "output_type": "stream",
     "text": [
      "64\n"
     ]
    }
   ],
   "source": [
    "a = 8\n",
    "b = 2\n",
    "\n",
    "print(a+b)\n",
    "print(a-b)\n",
    "print(a*b)\n",
    "print(a%b)\n",
    "print(a**b)\n",
    "\n",
    "print(a/b)\n",
    "print(a//b)"
   ]
  },
  {
   "cell_type": "code",
   "execution_count": 33,
   "id": "5189f267",
   "metadata": {},
   "outputs": [],
   "source": [
    "# Assignment operators\n",
    "\n",
    "# = += -= *= %= //= /= &= |="
   ]
  },
  {
   "cell_type": "code",
   "execution_count": 35,
   "id": "0315a9df",
   "metadata": {},
   "outputs": [
    {
     "name": "stdout",
     "output_type": "stream",
     "text": [
      "4.0\n"
     ]
    }
   ],
   "source": [
    "x = 4\n",
    "\n",
    "x /=  1\n",
    "print(x)"
   ]
  },
  {
   "cell_type": "code",
   "execution_count": 36,
   "id": "62b2ca2a",
   "metadata": {},
   "outputs": [
    {
     "ename": "SyntaxError",
     "evalue": "invalid syntax (<ipython-input-36-259183750796>, line 3)",
     "output_type": "error",
     "traceback": [
      "\u001b[1;36m  File \u001b[1;32m\"<ipython-input-36-259183750796>\"\u001b[1;36m, line \u001b[1;32m3\u001b[0m\n\u001b[1;33m    ==\tEqual\t          x == y\u001b[0m\n\u001b[1;37m     ^\u001b[0m\n\u001b[1;31mSyntaxError\u001b[0m\u001b[1;31m:\u001b[0m invalid syntax\n"
     ]
    }
   ],
   "source": [
    "# Comparison operators\n",
    "\n",
    "==\tEqual\t          x == y\t\n",
    "!=\tNot equal\t      x != y\t\n",
    ">\tGreater than\t  x > y\t\n",
    "<\tLess than\t      x < y\t\n",
    ">=\tGreater than or equal to\tx >= y\t\n",
    "<=\tLess than or equal to\tx <= y"
   ]
  },
  {
   "cell_type": "code",
   "execution_count": 53,
   "id": "fd3369bf",
   "metadata": {},
   "outputs": [
    {
     "name": "stdout",
     "output_type": "stream",
     "text": [
      "True\n"
     ]
    }
   ],
   "source": [
    "print(5 >= 5)"
   ]
  },
  {
   "cell_type": "code",
   "execution_count": 55,
   "id": "35f64b01",
   "metadata": {},
   "outputs": [
    {
     "name": "stdout",
     "output_type": "stream",
     "text": [
      " greater of:10 , lessthan of:5\n"
     ]
    }
   ],
   "source": [
    "a=10\n",
    "b=5\n",
    "if (a > b):\n",
    "    print(f\" greater of:{a} , lessthan of:{b}\")"
   ]
  },
  {
   "cell_type": "code",
   "execution_count": 58,
   "id": "e3cf601f",
   "metadata": {},
   "outputs": [
    {
     "name": "stdout",
     "output_type": "stream",
     "text": [
      "12\n"
     ]
    }
   ],
   "source": [
    "print( (3 + 3 ) * 2)"
   ]
  },
  {
   "cell_type": "code",
   "execution_count": null,
   "id": "0eb6d552",
   "metadata": {},
   "outputs": [],
   "source": [
    "# Logical operators\n",
    "AND OR NOT"
   ]
  },
  {
   "cell_type": "code",
   "execution_count": 67,
   "id": "9e959c0c",
   "metadata": {},
   "outputs": [
    {
     "name": "stdout",
     "output_type": "stream",
     "text": [
      "True\n"
     ]
    }
   ],
   "source": [
    "print( not (3 > 4 and 3==3))"
   ]
  },
  {
   "cell_type": "code",
   "execution_count": 72,
   "id": "9570e392",
   "metadata": {},
   "outputs": [
    {
     "name": "stdout",
     "output_type": "stream",
     "text": [
      "False\n"
     ]
    }
   ],
   "source": [
    "print( not( 3  < 4 ) )"
   ]
  },
  {
   "cell_type": "code",
   "execution_count": null,
   "id": "ecc36e6b",
   "metadata": {},
   "outputs": [],
   "source": [
    "# Identity operators\n",
    "\n",
    "is is not"
   ]
  },
  {
   "cell_type": "code",
   "execution_count": 74,
   "id": "b495d150",
   "metadata": {},
   "outputs": [
    {
     "name": "stdout",
     "output_type": "stream",
     "text": [
      "False\n"
     ]
    }
   ],
   "source": [
    "print( 3 is not 3 )"
   ]
  },
  {
   "cell_type": "code",
   "execution_count": null,
   "id": "b2531991",
   "metadata": {},
   "outputs": [],
   "source": [
    "# Membership operators\n",
    "\n",
    "in not in"
   ]
  },
  {
   "cell_type": "code",
   "execution_count": 76,
   "id": "081e8a80",
   "metadata": {},
   "outputs": [
    {
     "name": "stdout",
     "output_type": "stream",
     "text": [
      "False\n"
     ]
    }
   ],
   "source": [
    " print( 6 in [1,2,3,4] )"
   ]
  }
 ],
 "metadata": {
  "kernelspec": {
   "display_name": "Python 3 (ipykernel)",
   "language": "python",
   "name": "python3"
  },
  "language_info": {
   "codemirror_mode": {
    "name": "ipython",
    "version": 3
   },
   "file_extension": ".py",
   "mimetype": "text/x-python",
   "name": "python",
   "nbconvert_exporter": "python",
   "pygments_lexer": "ipython3",
   "version": "3.10.5"
  }
 },
 "nbformat": 4,
 "nbformat_minor": 5
}
