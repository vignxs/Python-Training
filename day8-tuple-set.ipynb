{
 "cells": [
  {
   "cell_type": "markdown",
   "id": "12480cae",
   "metadata": {},
   "source": [
    "# Tuples\n"
   ]
  },
  {
   "cell_type": "markdown",
   "id": "7ae8eaf6",
   "metadata": {},
   "source": [
    "### * ordered\n",
    "### * unchangeable\n",
    "### * allow duplicates"
   ]
  },
  {
   "cell_type": "code",
   "execution_count": 8,
   "id": "3afeaea1",
   "metadata": {
    "scrolled": true
   },
   "outputs": [
    {
     "ename": "TypeError",
     "evalue": "'tuple' object does not support item assignment",
     "output_type": "error",
     "traceback": [
      "\u001b[1;31m---------------------------------------------------------------------------\u001b[0m",
      "\u001b[1;31mTypeError\u001b[0m                                 Traceback (most recent call last)",
      "\u001b[1;32m<ipython-input-8-97edb08a9b23>\u001b[0m in \u001b[0;36m<module>\u001b[1;34m\u001b[0m\n\u001b[0;32m      6\u001b[0m \u001b[1;33m\u001b[0m\u001b[0m\n\u001b[0;32m      7\u001b[0m \u001b[1;31m# class_boys[0] = \"Akash\"\u001b[0m\u001b[1;33m\u001b[0m\u001b[1;33m\u001b[0m\u001b[0m\n\u001b[1;32m----> 8\u001b[1;33m \u001b[0mclass_boys\u001b[0m\u001b[1;33m[\u001b[0m\u001b[1;36m1\u001b[0m\u001b[1;33m]\u001b[0m \u001b[1;33m=\u001b[0m \u001b[0mclass_boysa\u001b[0m\u001b[1;33m[\u001b[0m\u001b[1;36m1\u001b[0m\u001b[1;33m]\u001b[0m\u001b[1;33m.\u001b[0m\u001b[0mupper\u001b[0m\u001b[1;33m(\u001b[0m\u001b[1;33m)\u001b[0m\u001b[1;33m\u001b[0m\u001b[0m\n\u001b[0m\u001b[0;32m      9\u001b[0m \u001b[1;33m\u001b[0m\u001b[0m\n\u001b[0;32m     10\u001b[0m \u001b[1;33m\u001b[0m\u001b[0m\n",
      "\u001b[1;31mTypeError\u001b[0m: 'tuple' object does not support item assignment"
     ]
    }
   ],
   "source": [
    "class_boys = (\"vignesh\", \"akash\" )\n",
    "\n",
    "class_boysa = [\"vignesh\", \"akash\" ]\n",
    "\n",
    "\n",
    "\n",
    "# class_boys[0] = \"Akash\"\n",
    "class_boys[1] = class_boysa[1].upper()\n",
    "\n",
    "\n",
    "class_boysa"
   ]
  },
  {
   "cell_type": "code",
   "execution_count": 11,
   "id": "c7666274",
   "metadata": {},
   "outputs": [
    {
     "name": "stdout",
     "output_type": "stream",
     "text": [
      "<class 'tuple'>\n",
      "AKASH\n"
     ]
    }
   ],
   "source": [
    "tuple1 = (\"ahghghgghg\", 1, 1.0, ['vignesh', 'akash', 'dinesh'], { \"key\": \"value\", \"number\" : 12} , ('vignesh', 'akash', 'dinesh') , {'vignesh', 'akash', 'dinesh'})\n",
    "\n",
    "print(type(tuple1))\n",
    "\n",
    "print(tuple1[3][1].upper())\n"
   ]
  },
  {
   "cell_type": "code",
   "execution_count": 6,
   "id": "2f35f553",
   "metadata": {},
   "outputs": [
    {
     "name": "stdout",
     "output_type": "stream",
     "text": [
      "<class 'int'>\n",
      "['key', 'number']\n"
     ]
    }
   ],
   "source": [
    "num = int(1)\n",
    "print(type(num))\n",
    "\n",
    "nums = { \"key\": \"value\", \"number\" : 12}\n",
    "\n",
    "test = list(nums)\n",
    "print(test)"
   ]
  },
  {
   "cell_type": "code",
   "execution_count": 14,
   "id": "cbbfc80e",
   "metadata": {},
   "outputs": [
    {
     "name": "stdout",
     "output_type": "stream",
     "text": [
      "('dinesh', 'akash', 'vignesh')\n"
     ]
    }
   ],
   "source": [
    "names = ('vignesh', 'akash', 'dinesh')\n",
    "\n",
    "print(names[::-1])"
   ]
  },
  {
   "cell_type": "code",
   "execution_count": 16,
   "id": "bf4dcdb7",
   "metadata": {},
   "outputs": [
    {
     "name": "stdout",
     "output_type": "stream",
     "text": [
      "vijay1 not exists in names\n"
     ]
    }
   ],
   "source": [
    "class10_boys_names = ('vignesh', 'akash', 'dinesh', \"vijay\")\n",
    "\n",
    "name = \"vijay1\"\n",
    "\n",
    "if name in class10_boys_names:\n",
    "    print(f\"{name} exists in names\")\n",
    "else:\n",
    "    print(f\"{name} not exists in names\")\n",
    "    \n",
    "    \n",
    "    \n",
    "# print(name in names )"
   ]
  },
  {
   "cell_type": "code",
   "execution_count": null,
   "id": "7984356b",
   "metadata": {},
   "outputs": [],
   "source": []
  },
  {
   "cell_type": "code",
   "execution_count": 17,
   "id": "4894437d",
   "metadata": {},
   "outputs": [
    {
     "ename": "TypeError",
     "evalue": "'tuple' object does not support item assignment",
     "output_type": "error",
     "traceback": [
      "\u001b[1;31m---------------------------------------------------------------------------\u001b[0m",
      "\u001b[1;31mTypeError\u001b[0m                                 Traceback (most recent call last)",
      "\u001b[1;32m<ipython-input-17-0909f6e2ddf7>\u001b[0m in \u001b[0;36m<module>\u001b[1;34m\u001b[0m\n\u001b[0;32m      1\u001b[0m \u001b[0mnames\u001b[0m \u001b[1;33m=\u001b[0m \u001b[1;33m(\u001b[0m\u001b[1;34m'akash'\u001b[0m\u001b[1;33m,\u001b[0m \u001b[1;34m'dinesh'\u001b[0m \u001b[1;33m,\u001b[0m\u001b[1;34m'vignesh'\u001b[0m\u001b[1;33m)\u001b[0m\u001b[1;33m\u001b[0m\u001b[0m\n\u001b[0;32m      2\u001b[0m \u001b[1;33m\u001b[0m\u001b[0m\n\u001b[1;32m----> 3\u001b[1;33m \u001b[0mnames\u001b[0m\u001b[1;33m[\u001b[0m\u001b[1;36m2\u001b[0m\u001b[1;33m]\u001b[0m \u001b[1;33m=\u001b[0m \u001b[1;34m'deepak'\u001b[0m\u001b[1;33m\u001b[0m\u001b[0m\n\u001b[0m\u001b[0;32m      4\u001b[0m \u001b[1;33m\u001b[0m\u001b[0m\n\u001b[0;32m      5\u001b[0m \u001b[0mnames\u001b[0m\u001b[1;33m\u001b[0m\u001b[0m\n",
      "\u001b[1;31mTypeError\u001b[0m: 'tuple' object does not support item assignment"
     ]
    }
   ],
   "source": [
    "names = ('akash', 'dinesh' ,'vignesh')\n",
    "\n",
    "names[2] = 'deepak'\n",
    "\n",
    "names"
   ]
  },
  {
   "cell_type": "code",
   "execution_count": 19,
   "id": "50552d4a",
   "metadata": {},
   "outputs": [
    {
     "data": {
      "text/plain": [
       "('akash', 'dinesh', 'deepak')"
      ]
     },
     "execution_count": 19,
     "metadata": {},
     "output_type": "execute_result"
    }
   ],
   "source": [
    "a = list((1,2,3))\n",
    "b= str(1)\n",
    "c = int(\"2\")\n",
    "\n",
    "names = ('akash', 'dinesh' ,'vignesh')\n",
    "\n",
    "list1 = list(names)\n",
    "list1[2] = 'deepak'\n",
    "\n",
    "names = tuple(list1)\n",
    "names\n"
   ]
  },
  {
   "cell_type": "code",
   "execution_count": 20,
   "id": "3f9c0829",
   "metadata": {},
   "outputs": [
    {
     "data": {
      "text/plain": [
       "('akash', 'dinesh', 'vignesh', 'vishal')"
      ]
     },
     "execution_count": 20,
     "metadata": {},
     "output_type": "execute_result"
    }
   ],
   "source": [
    "names = ('akash', 'dinesh' ,'vignesh') #vishal\n",
    "\n",
    "list1 = list(names)\n",
    "\n",
    "list1.append(\"vishal\")\n",
    "\n",
    "names = tuple(list1)\n",
    "names"
   ]
  },
  {
   "cell_type": "code",
   "execution_count": 22,
   "id": "988640c8",
   "metadata": {},
   "outputs": [
    {
     "data": {
      "text/plain": [
       "('akash', 'dinesh', 'vignesh')"
      ]
     },
     "execution_count": 22,
     "metadata": {},
     "output_type": "execute_result"
    }
   ],
   "source": [
    "names = ('akash', 'dinesh', 'vignesh', 'vishal')\n",
    "\n",
    "list1 = list(names)\n",
    "list1.remove(\"vishal\")\n",
    "names = tuple(list1)\n",
    "names"
   ]
  },
  {
   "cell_type": "code",
   "execution_count": 24,
   "id": "fffee663",
   "metadata": {},
   "outputs": [
    {
     "ename": "NameError",
     "evalue": "name 'names' is not defined",
     "output_type": "error",
     "traceback": [
      "\u001b[1;31m---------------------------------------------------------------------------\u001b[0m",
      "\u001b[1;31mNameError\u001b[0m                                 Traceback (most recent call last)",
      "\u001b[1;32m<ipython-input-24-89deb0f378ad>\u001b[0m in \u001b[0;36m<module>\u001b[1;34m\u001b[0m\n\u001b[0;32m      2\u001b[0m \u001b[1;32mdel\u001b[0m  \u001b[0mnames\u001b[0m\u001b[1;33m\u001b[0m\u001b[0m\n\u001b[0;32m      3\u001b[0m \u001b[1;33m\u001b[0m\u001b[0m\n\u001b[1;32m----> 4\u001b[1;33m \u001b[0mnames\u001b[0m\u001b[1;33m\u001b[0m\u001b[0m\n\u001b[0m",
      "\u001b[1;31mNameError\u001b[0m: name 'names' is not defined"
     ]
    }
   ],
   "source": [
    "names = ('akash', 'dinesh', 'vignesh', 'vishal')\n",
    "del  names\n",
    "\n",
    "names"
   ]
  },
  {
   "cell_type": "code",
   "execution_count": 1,
   "id": "7cdeb8f3",
   "metadata": {},
   "outputs": [
    {
     "data": {
      "text/plain": [
       "'vignesh'"
      ]
     },
     "execution_count": 1,
     "metadata": {},
     "output_type": "execute_result"
    }
   ],
   "source": [
    "classa =('akash', 'dinesh' ,'vignesh')\n",
    "\n",
    "classa[-1]\n"
   ]
  },
  {
   "cell_type": "code",
   "execution_count": 30,
   "id": "fccb1b97",
   "metadata": {},
   "outputs": [
    {
     "data": {
      "text/plain": [
       "('akash', 'dinesh', 'vignesh')"
      ]
     },
     "execution_count": 30,
     "metadata": {},
     "output_type": "execute_result"
    }
   ],
   "source": [
    "classa =('vignesh', 'dinesh', 'akash')\n",
    "classa = list(classa)\n",
    "classa.sort()\n",
    "classa = tuple(classa)\n",
    "classa\n"
   ]
  },
  {
   "cell_type": "code",
   "execution_count": 32,
   "id": "2b37574d",
   "metadata": {},
   "outputs": [
    {
     "data": {
      "text/plain": [
       "0"
      ]
     },
     "execution_count": 32,
     "metadata": {},
     "output_type": "execute_result"
    }
   ],
   "source": [
    "classa =('vignesh', 'dinesh', 'akash')\n",
    "\n",
    "classa.index(\"vignesh\")"
   ]
  },
  {
   "cell_type": "code",
   "execution_count": 35,
   "id": "be2c523e",
   "metadata": {},
   "outputs": [
    {
     "data": {
      "text/plain": [
       "3"
      ]
     },
     "execution_count": 35,
     "metadata": {},
     "output_type": "execute_result"
    }
   ],
   "source": [
    "classa =('vignesh','vignesh', 'vignesh',  'dinesh', 'akash')\n",
    "\n",
    "classa.count(\"vignesh\")"
   ]
  },
  {
   "cell_type": "code",
   "execution_count": 36,
   "id": "c4a273ae",
   "metadata": {},
   "outputs": [
    {
     "data": {
      "text/plain": [
       "3"
      ]
     },
     "execution_count": 36,
     "metadata": {},
     "output_type": "execute_result"
    }
   ],
   "source": [
    "numbers = [ 1,1,1, 2, 3]\n",
    "\n",
    "numbers.count(1)"
   ]
  },
  {
   "cell_type": "code",
   "execution_count": 44,
   "id": "a5811603",
   "metadata": {},
   "outputs": [
    {
     "data": {
      "text/plain": [
       "(1, [1, 1, 2], 3)"
      ]
     },
     "execution_count": 44,
     "metadata": {},
     "output_type": "execute_result"
    }
   ],
   "source": [
    "numbers = ( 1,1,1, 2, 3)\n",
    "x , *y , z = numbers\n",
    "\n",
    "x,y,z"
   ]
  }
 ],
 "metadata": {
  "kernelspec": {
   "display_name": "Python 3 (ipykernel)",
   "language": "python",
   "name": "python3"
  },
  "language_info": {
   "codemirror_mode": {
    "name": "ipython",
    "version": 3
   },
   "file_extension": ".py",
   "mimetype": "text/x-python",
   "name": "python",
   "nbconvert_exporter": "python",
   "pygments_lexer": "ipython3",
   "version": "3.10.5"
  }
 },
 "nbformat": 4,
 "nbformat_minor": 5
}
