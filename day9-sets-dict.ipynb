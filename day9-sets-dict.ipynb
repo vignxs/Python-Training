{
 "cells": [
  {
   "cell_type": "code",
   "execution_count": 1,
   "id": "edab2304",
   "metadata": {},
   "outputs": [],
   "source": [
    "#sets"
   ]
  },
  {
   "cell_type": "markdown",
   "id": "b5351655",
   "metadata": {},
   "source": [
    "### unordered\n",
    "### unchangeable\n",
    "### doesnt allow duplicates"
   ]
  },
  {
   "cell_type": "code",
   "execution_count": 7,
   "id": "09a0afa1",
   "metadata": {},
   "outputs": [
    {
     "name": "stdout",
     "output_type": "stream",
     "text": [
      "('lion', 'MONKEY', 'tiger')\n"
     ]
    }
   ],
   "source": [
    "names = (\"lion\", \"monkey\", \"tiger\" )\n",
    "\n",
    "names = list(names)\n",
    "names[1] = names[1].upper()\n",
    "names = tuple(names)\n",
    "print(names)"
   ]
  },
  {
   "cell_type": "code",
   "execution_count": 11,
   "id": "d0501e77",
   "metadata": {},
   "outputs": [
    {
     "data": {
      "text/plain": [
       "3"
      ]
     },
     "execution_count": 11,
     "metadata": {},
     "output_type": "execute_result"
    }
   ],
   "source": [
    "names = {\"lion\", \"monkey\", \"tiger\" }\n",
    "\n",
    "len(names)"
   ]
  },
  {
   "cell_type": "code",
   "execution_count": 22,
   "id": "4ab65ff3",
   "metadata": {},
   "outputs": [
    {
     "data": {
      "text/plain": [
       "{1, False, 'Lion', 'lion', 'monkey', 'tiger'}"
      ]
     },
     "execution_count": 22,
     "metadata": {},
     "output_type": "execute_result"
    }
   ],
   "source": [
    "names = {\"lion\", \"Lion\", \"tiger\", False, 1, \"monkey\", True, 0 }\n",
    "\n",
    "names"
   ]
  },
  {
   "cell_type": "code",
   "execution_count": 28,
   "id": "79bb4947",
   "metadata": {},
   "outputs": [
    {
     "name": "stdout",
     "output_type": "stream",
     "text": [
      "['lion', 'Lion', 'tiger', False, 1, 'monkey', True, 0]\n",
      "{False, 1, 'tiger', 'lion', 'Lion', 'monkey'}\n",
      "[False, 1, 'tiger', 'lion', 'Lion', 'monkey']\n"
     ]
    }
   ],
   "source": [
    "names = [\"lion\", \"Lion\", \"tiger\", False, 1, \"monkey\", True, 0 ]\n",
    "print( names)\n",
    "\n",
    "set_names = set(names)\n",
    "\n",
    "print( set_names)\n",
    "names = list(set_names)\n",
    "print( names)\n"
   ]
  },
  {
   "cell_type": "code",
   "execution_count": 2,
   "id": "34d5b813",
   "metadata": {},
   "outputs": [
    {
     "ename": "TypeError",
     "evalue": "'set' object is not subscriptable",
     "output_type": "error",
     "traceback": [
      "\u001b[1;31m---------------------------------------------------------------------------\u001b[0m",
      "\u001b[1;31mTypeError\u001b[0m                                 Traceback (most recent call last)",
      "Cell \u001b[1;32mIn[2], line 6\u001b[0m\n\u001b[0;32m      1\u001b[0m names \u001b[38;5;241m=\u001b[39m {\u001b[38;5;124m\"\u001b[39m\u001b[38;5;124mlion\u001b[39m\u001b[38;5;124m\"\u001b[39m, \u001b[38;5;124m\"\u001b[39m\u001b[38;5;124mmonkey\u001b[39m\u001b[38;5;124m\"\u001b[39m, \u001b[38;5;124m\"\u001b[39m\u001b[38;5;124mtiger\u001b[39m\u001b[38;5;124m\"\u001b[39m }\n\u001b[0;32m      3\u001b[0m \u001b[38;5;66;03m# for i in names:\u001b[39;00m\n\u001b[0;32m      4\u001b[0m \u001b[38;5;66;03m#     print(i)\u001b[39;00m\n\u001b[1;32m----> 6\u001b[0m \u001b[43mnames\u001b[49m\u001b[43m[\u001b[49m\u001b[38;5;241;43m2\u001b[39;49m\u001b[43m]\u001b[49m\n",
      "\u001b[1;31mTypeError\u001b[0m: 'set' object is not subscriptable"
     ]
    }
   ],
   "source": [
    "names = {\"lion\", \"monkey\", \"tiger\" }\n",
    "\n",
    "# for i in names:\n",
    "#     print(i)\n",
    "\n",
    "names[2]"
   ]
  },
  {
   "cell_type": "code",
   "execution_count": 37,
   "id": "31525218",
   "metadata": {},
   "outputs": [
    {
     "data": {
      "text/plain": [
       "{'bear', 'lion', 'monkey', 'tiger'}"
      ]
     },
     "execution_count": 37,
     "metadata": {},
     "output_type": "execute_result"
    }
   ],
   "source": [
    "names = {\"lion\", \"monkey\", \"tiger\" }\n",
    "names.add(\"bear\")\n",
    "\n",
    "names"
   ]
  },
  {
   "cell_type": "code",
   "execution_count": 42,
   "id": "7fe9e2ba",
   "metadata": {},
   "outputs": [
    {
     "data": {
      "text/plain": [
       "{'bear', 'lion', 'monkey', 'snake', 'tiger'}"
      ]
     },
     "execution_count": 42,
     "metadata": {},
     "output_type": "execute_result"
    }
   ],
   "source": [
    "names = {\"lion\", \"monkey\", \"tiger\" }\n",
    "names1 = [\"bear\", \"snake\"]\n",
    "\n",
    "names.update(names1)\n",
    "\n",
    "names"
   ]
  },
  {
   "cell_type": "code",
   "execution_count": 49,
   "id": "2d4b40be",
   "metadata": {},
   "outputs": [
    {
     "data": {
      "text/plain": [
       "{'monkey', 'tiger'}"
      ]
     },
     "execution_count": 49,
     "metadata": {},
     "output_type": "execute_result"
    }
   ],
   "source": [
    "names = {\"lion\", \"monkey\", \"tiger\" }\n",
    "\n",
    "\n",
    "names.remove(\"lion\")\n",
    "\n",
    "names"
   ]
  },
  {
   "cell_type": "code",
   "execution_count": 52,
   "id": "e9b0042d",
   "metadata": {},
   "outputs": [
    {
     "data": {
      "text/plain": [
       "{'monkey', 'tiger'}"
      ]
     },
     "execution_count": 52,
     "metadata": {},
     "output_type": "execute_result"
    }
   ],
   "source": [
    "names = {\"lion\", \"monkey\", \"tiger\" }\n",
    "\n",
    "\n",
    "names.discard(\"lion\")\n",
    "\n",
    "names"
   ]
  },
  {
   "cell_type": "code",
   "execution_count": 54,
   "id": "d68efcc3",
   "metadata": {},
   "outputs": [
    {
     "data": {
      "text/plain": [
       "set()"
      ]
     },
     "execution_count": 54,
     "metadata": {},
     "output_type": "execute_result"
    }
   ],
   "source": [
    "names = {\"lion\", \"monkey\", \"tiger\" }\n",
    "\n",
    "\n",
    "names.clear()\n",
    "\n",
    "names"
   ]
  },
  {
   "cell_type": "code",
   "execution_count": 57,
   "id": "02b53b0d",
   "metadata": {},
   "outputs": [
    {
     "data": {
      "text/plain": [
       "{'bear', 'lion', 'monkey', 'snake', 'tiger'}"
      ]
     },
     "execution_count": 57,
     "metadata": {},
     "output_type": "execute_result"
    }
   ],
   "source": [
    "names = {\"lion\", \"monkey\", \"tiger\" }\n",
    "names1 = {\"bear\", \"snake\"}\n",
    "\n",
    "unionnames = names.union(names1)\n",
    "\n",
    "unionnames"
   ]
  },
  {
   "cell_type": "code",
   "execution_count": 63,
   "id": "14101708",
   "metadata": {},
   "outputs": [
    {
     "data": {
      "text/plain": [
       "'lion'"
      ]
     },
     "execution_count": 63,
     "metadata": {},
     "output_type": "execute_result"
    }
   ],
   "source": [
    "names = {\"lion\", \"monkey\", \"tiger\" }\n",
    "\n",
    "names.pop()"
   ]
  },
  {
   "cell_type": "code",
   "execution_count": null,
   "id": "6af8e624",
   "metadata": {},
   "outputs": [],
   "source": [
    "#dictionary"
   ]
  },
  {
   "cell_type": "code",
   "execution_count": 68,
   "id": "832d7e56",
   "metadata": {},
   "outputs": [
    {
     "data": {
      "text/plain": [
       "'lion'"
      ]
     },
     "execution_count": 68,
     "metadata": {},
     "output_type": "execute_result"
    }
   ],
   "source": [
    "names = {\"land\" : \"lion\", \"sea\" : \"fish\", \"sky\": \"bird\" }\n",
    "\n",
    "names[\"land\"] "
   ]
  },
  {
   "cell_type": "code",
   "execution_count": 73,
   "id": "e62119ce",
   "metadata": {},
   "outputs": [
    {
     "data": {
      "text/plain": [
       "{'land': 'LION', 'sea': 'fish', 'sky': 'bird'}"
      ]
     },
     "execution_count": 73,
     "metadata": {},
     "output_type": "execute_result"
    }
   ],
   "source": [
    "names = {\"land\" : \"lion\", \"sea\" : \"fish\", \"sky\": \"bird\"}\n",
    "names[\"land\"] =  names[\"land\"].upper()\n",
    "names"
   ]
  },
  {
   "cell_type": "code",
   "execution_count": 74,
   "id": "9349568f",
   "metadata": {
    "scrolled": true
   },
   "outputs": [
    {
     "ename": "KeyError",
     "evalue": "'land1'",
     "output_type": "error",
     "traceback": [
      "\u001b[1;31m---------------------------------------------------------------------------\u001b[0m",
      "\u001b[1;31mKeyError\u001b[0m                                  Traceback (most recent call last)",
      "\u001b[1;32m<ipython-input-74-5526da7588b0>\u001b[0m in \u001b[0;36m<module>\u001b[1;34m\u001b[0m\n\u001b[0;32m      1\u001b[0m \u001b[0mnames\u001b[0m \u001b[1;33m=\u001b[0m \u001b[1;33m{\u001b[0m\u001b[1;34m\"land\"\u001b[0m \u001b[1;33m:\u001b[0m \u001b[1;34m\"lion\"\u001b[0m\u001b[1;33m,\u001b[0m \u001b[1;34m\"sea\"\u001b[0m \u001b[1;33m:\u001b[0m \u001b[1;34m\"fish\"\u001b[0m\u001b[1;33m,\u001b[0m \u001b[1;34m\"sky\"\u001b[0m\u001b[1;33m:\u001b[0m \u001b[1;34m\"bird\"\u001b[0m \u001b[1;33m}\u001b[0m\u001b[1;33m\u001b[0m\u001b[0m\n\u001b[0;32m      2\u001b[0m \u001b[1;33m\u001b[0m\u001b[0m\n\u001b[1;32m----> 3\u001b[1;33m \u001b[0mnames\u001b[0m\u001b[1;33m[\u001b[0m\u001b[1;34m\"land1\"\u001b[0m\u001b[1;33m]\u001b[0m\u001b[1;33m\u001b[0m\u001b[0m\n\u001b[0m",
      "\u001b[1;31mKeyError\u001b[0m: 'land1'"
     ]
    }
   ],
   "source": [
    "names = {\"land\" : \"lion\", \"sea\" : \"fish\", \"sky\": \"bird\" }\n",
    "\n",
    "names[\"land1\"] "
   ]
  },
  {
   "cell_type": "code",
   "execution_count": 83,
   "id": "b30c53ad",
   "metadata": {},
   "outputs": [
    {
     "name": "stdout",
     "output_type": "stream",
     "text": [
      "None\n"
     ]
    }
   ],
   "source": [
    "names = {\"land\" : \"lion\", \"sea\" : \"fish\", \"sky\": \"bird\" }\n",
    "\n",
    "print(names.get(\"land1\", None))"
   ]
  },
  {
   "cell_type": "code",
   "execution_count": null,
   "id": "78e2cc3c",
   "metadata": {},
   "outputs": [],
   "source": []
  }
 ],
 "metadata": {
  "kernelspec": {
   "display_name": "Python 3 (ipykernel)",
   "language": "python",
   "name": "python3"
  },
  "language_info": {
   "codemirror_mode": {
    "name": "ipython",
    "version": 3
   },
   "file_extension": ".py",
   "mimetype": "text/x-python",
   "name": "python",
   "nbconvert_exporter": "python",
   "pygments_lexer": "ipython3",
   "version": "3.10.5"
  }
 },
 "nbformat": 4,
 "nbformat_minor": 5
}
