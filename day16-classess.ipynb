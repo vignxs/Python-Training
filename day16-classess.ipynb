{
 "cells": [
  {
   "cell_type": "code",
   "execution_count": 16,
   "metadata": {},
   "outputs": [
    {
     "name": "stdout",
     "output_type": "stream",
     "text": [
      "Lucy is now sitting.\n",
      "Lucy rolled over!\n"
     ]
    }
   ],
   "source": [
    "class Dog:    \n",
    "    \"\"\"A simple attempt to model a dog.\"\"\"\n",
    "       \n",
    "    def __init__(self, name, age):           \n",
    "        \"\"\"Initialize name and age attributes.\"\"\"      \n",
    "        self.name = name           \n",
    "        self.age = age    \n",
    "\n",
    "    def sit(self):           \n",
    "        \"\"\"Simulate a dog sitting in response to a command.\"\"\"           \n",
    "        print(f\"{self.name} is now sitting.\")\n",
    "        \n",
    "    def roll_over(self):           \n",
    "        \"\"\"Simulate rolling over in response to a command.\"\"\"          \n",
    "        print(f\"{self.name} rolled over!\")\n",
    "        \n",
    "my_dog = Dog('Willie', 6)\n",
    "\n",
    "# my_dog.sit()\n",
    "# my_dog.roll_over()\n",
    "\n",
    "\n",
    "your_dog = Dog('Lucy', 3)\n",
    "\n",
    "your_dog.sit()\n",
    "your_dog.roll_over()"
   ]
  },
  {
   "cell_type": "code",
   "execution_count": null,
   "metadata": {},
   "outputs": [],
   "source": [
    "#  Restaurant:  Make  a  class  called Restaurant.  The __init__()  method  forRestaurant  should  store  two  attributes:  a restaurant_name  and  a cuisine_type.Make  a  method  called describe_restaurant()  that  prints  these  two  pieces  ofinformation, and a method called open_restaurant() that prints a message indicatingthat the restaurant is open.Make  an  instance  called restaurant  from  your  class.  Print  the  two  attributesindividually, and then call both methods.9-2. Three Restaurants: Start with your class from Exercise 9-1. Create three differentinstances from the class, and call describe_restaurant() for each instance.9-3. Users:  Make  a  class  called User.  Create  two  attributes  called first_name  andlast_name,  and  then  create  several  other  attributes  that  are  typically  stored  in  a  userprofile.  Make  a  method  called describe_user()  that  prints  a  summary  of  the  user’sinformation.  Make  another  method  called greet_user()  that  prints  a  personalizedgreeting to the user.Create several instances representing different users, and call both methods for eachuser."
   ]
  },
  {
   "cell_type": "code",
   "execution_count": 17,
   "metadata": {},
   "outputs": [
    {
     "name": "stdout",
     "output_type": "stream",
     "text": [
      "2019 Audi A4\n"
     ]
    }
   ],
   "source": [
    "class Car:\n",
    "    \"\"\"A simple attempt to represent a car.\"\"\"\n",
    "    def __init__(self, make, model, year):\n",
    "        \"\"\"Initialize attributes to describe a car.\"\"\"\n",
    "        self.make = make           \n",
    "        self.model = model           \n",
    "        self.year = year\n",
    "    \n",
    "    def get_descriptive_name(self):           \n",
    "        \"\"\"Return a neatly formatted descriptive name.\"\"\"           \n",
    "        long_name = f\"{self.year} {self.make} {self.model}\"       \n",
    "            \n",
    "        return long_name.title()\n",
    "    \n",
    "my_new_car = Car('audi', 'a4', 2019)   \n",
    "print(my_new_car.get_descriptive_name())"
   ]
  },
  {
   "cell_type": "code",
   "execution_count": 22,
   "metadata": {},
   "outputs": [
    {
     "name": "stdout",
     "output_type": "stream",
     "text": [
      "2019 Audi A4\n",
      "This car has 0 miles on it.\n"
     ]
    }
   ],
   "source": [
    "class Car:\n",
    "    \"\"\"A simple attempt to represent a car.\"\"\"\n",
    "\n",
    "    def __init__(self, make, model, year):\n",
    "        \"\"\"Initialize attributes to describe a car.\"\"\"\n",
    "        self.make = make\n",
    "        self.model = model\n",
    "        self.year = year\n",
    "        self.odometer_reading = 0\n",
    "\n",
    "    def get_descriptive_name(self):\n",
    "        \"\"\"Return a neatly formatted descriptive name.\"\"\"\n",
    "        long_name = f\"{self.year} {self.make} {self.model}\"\n",
    "\n",
    "        return long_name.title()\n",
    "    \n",
    "    def read_odometer(self):           \n",
    "        \"\"\"Print a statement showing the car's mileage.\"\"\"           \n",
    "        print(f\"This car has {self.odometer_reading} miles on it.\")\n",
    "\n",
    "\n",
    "my_new_car = Car('audi', 'a4', 2019)\n",
    "print(my_new_car.get_descriptive_name())\n",
    "my_new_car.read_odometer()"
   ]
  },
  {
   "cell_type": "code",
   "execution_count": 26,
   "metadata": {},
   "outputs": [
    {
     "name": "stdout",
     "output_type": "stream",
     "text": [
      "20\n",
      "20\n",
      "This car has 20 miles on it.\n"
     ]
    }
   ],
   "source": [
    "print(my_new_car.odometer_reading)\n",
    "\n",
    "my_new_car.odometer_reading =  20\n",
    "\n",
    "print(my_new_car.odometer_reading)\n",
    "\n",
    "my_new_car.read_odometer()"
   ]
  },
  {
   "cell_type": "code",
   "execution_count": 27,
   "metadata": {},
   "outputs": [
    {
     "name": "stdout",
     "output_type": "stream",
     "text": [
      "2019 Audi A4\n",
      "This car has 0 miles on it.\n"
     ]
    }
   ],
   "source": [
    "class Car:\n",
    "    \"\"\"A simple attempt to represent a car.\"\"\"\n",
    "\n",
    "    def __init__(self, make, model, year):\n",
    "        \"\"\"Initialize attributes to describe a car.\"\"\"\n",
    "        self.make = make\n",
    "        self.model = model\n",
    "        self.year = year\n",
    "        self.odometer_reading = 0\n",
    "\n",
    "    def get_descriptive_name(self):\n",
    "        \"\"\"Return a neatly formatted descriptive name.\"\"\"\n",
    "        long_name = f\"{self.year} {self.make} {self.model}\"\n",
    "\n",
    "        return long_name.title()\n",
    "\n",
    "    def read_odometer(self):\n",
    "        \"\"\"Print a statement showing the car's mileage.\"\"\"\n",
    "        print(f\"This car has {self.odometer_reading} miles on it.\")\n",
    "\n",
    "    def update_odometer(self, mileage):  \n",
    "        \"\"\"Set the odometer reading to the given value.\"\"\"           \n",
    "        self.odometer_reading = mileage\n",
    "    \n",
    "\n",
    "\n",
    "my_new_car = Car('audi', 'a4', 2019)\n",
    "print(my_new_car.get_descriptive_name())\n",
    "my_new_car.read_odometer()"
   ]
  },
  {
   "cell_type": "code",
   "execution_count": 28,
   "metadata": {},
   "outputs": [
    {
     "name": "stdout",
     "output_type": "stream",
     "text": [
      "This car has 23 miles on it.\n"
     ]
    }
   ],
   "source": [
    "my_new_car.update_odometer(mileage=23)   \n",
    "my_new_car.read_odometer()"
   ]
  }
 ],
 "metadata": {
  "kernelspec": {
   "display_name": "Python 3",
   "language": "python",
   "name": "python3"
  },
  "language_info": {
   "codemirror_mode": {
    "name": "ipython",
    "version": 3
   },
   "file_extension": ".py",
   "mimetype": "text/x-python",
   "name": "python",
   "nbconvert_exporter": "python",
   "pygments_lexer": "ipython3",
   "version": "3.10.5"
  }
 },
 "nbformat": 4,
 "nbformat_minor": 2
}
