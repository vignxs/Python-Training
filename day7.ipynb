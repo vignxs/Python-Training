{
 "cells": [
  {
   "cell_type": "code",
   "execution_count": 1,
   "id": "7aa7f76b",
   "metadata": {},
   "outputs": [],
   "source": [
    "# LOOPS"
   ]
  },
  {
   "cell_type": "code",
   "execution_count": 15,
   "id": "2d5da608",
   "metadata": {},
   "outputs": [
    {
     "name": "stdout",
     "output_type": "stream",
     "text": [
      "0\n"
     ]
    }
   ],
   "source": [
    "for i in range(1):\n",
    "    print(i)"
   ]
  },
  {
   "cell_type": "code",
   "execution_count": 5,
   "id": "394571d2",
   "metadata": {},
   "outputs": [
    {
     "name": "stdout",
     "output_type": "stream",
     "text": [
      "Akash\n",
      "Dinesh\n",
      "Deepak\n",
      "Vignesh\n",
      "Vishal\n",
      "Vijay\n"
     ]
    }
   ],
   "source": [
    "classa = {'akash', 'dinesh' ,'vignesh', 'vijay', 'deepak' ,'vishal'}\n",
    "\n",
    "\n",
    "\n",
    "for item in classa:\n",
    "    print(item.title())\n"
   ]
  },
  {
   "cell_type": "code",
   "execution_count": null,
   "id": "19c49230",
   "metadata": {},
   "outputs": [],
   "source": []
  },
  {
   "cell_type": "code",
   "execution_count": 13,
   "id": "1c1786d9",
   "metadata": {},
   "outputs": [
    {
     "name": "stdout",
     "output_type": "stream",
     "text": [
      "Akash Dinesh Vignesh Vijay Deepak Vishal "
     ]
    }
   ],
   "source": [
    "classa = ('akash', 'dinesh' ,'vignesh', 'vijay', 'deepak' ,'vishal')\n",
    "\n",
    "\n",
    "for i in range(len(classa)):\n",
    "    print(classa[i].title(), end=' ')"
   ]
  },
  {
   "cell_type": "code",
   "execution_count": null,
   "id": "8422be67",
   "metadata": {},
   "outputs": [],
   "source": []
  },
  {
   "cell_type": "code",
   "execution_count": 8,
   "id": "4efc00ec",
   "metadata": {},
   "outputs": [
    {
     "name": "stdout",
     "output_type": "stream",
     "text": [
      "Akash\n",
      "Dinesh\n",
      "Vignesh\n",
      "Vijay\n",
      "Deepak\n",
      "Vishal\n"
     ]
    }
   ],
   "source": [
    "classa = ('akash', 'dinesh' ,'vignesh', 'vijay', 'deepak' ,'vishal')\n",
    "\n",
    "i = 0\n",
    "\n",
    "while i < len(classa):\n",
    "    print(classa[i].title())\n",
    "    i +=1"
   ]
  },
  {
   "cell_type": "code",
   "execution_count": 35,
   "id": "49b1e9a6",
   "metadata": {},
   "outputs": [],
   "source": [
    "# List Comprehension"
   ]
  },
  {
   "cell_type": "code",
   "execution_count": 12,
   "id": "f666fd62",
   "metadata": {},
   "outputs": [
    {
     "name": "stdout",
     "output_type": "stream",
     "text": [
      "['Deepak']\n"
     ]
    }
   ],
   "source": [
    "classa = {'akash', 'dinesh' ,'vignesh', 'vijay', 'deepak' ,'vishal'}\n",
    "titled_classa = []\n",
    "for i in classa:\n",
    "    if  i == \"deepak\":\n",
    "        titled_classa.append(i.title())\n",
    "        \n",
    "print(titled_classa)"
   ]
  },
  {
   "cell_type": "code",
   "execution_count": 11,
   "id": "e5000a99",
   "metadata": {},
   "outputs": [
    {
     "name": "stdout",
     "output_type": "stream",
     "text": [
      "['vijay']\n"
     ]
    }
   ],
   "source": [
    "classa = ['akash', 'dinesh' ,'vignesh', 'vijay', 'deepak' ,'vishal']\n",
    "\n",
    "titled_classa = [ i for i in classa if i == \"vijay\"]\n",
    "\n",
    "print(titled_classa)"
   ]
  },
  {
   "cell_type": "code",
   "execution_count": 16,
   "id": "5e631cb9",
   "metadata": {},
   "outputs": [
    {
     "name": "stdout",
     "output_type": "stream",
     "text": [
      "0 1 1 2 3 5 8 \n"
     ]
    }
   ],
   "source": [
    "# Python 3: Fibonacci series up to n\n",
    "def fib(n):\n",
    "    a, b = 0, 1\n",
    "    while a < n:\n",
    "        print(a, end=' ')\n",
    "        a, b = b, a+b\n",
    "        \n",
    "    print()\n",
    "fib(10)\n"
   ]
  }
 ],
 "metadata": {
  "kernelspec": {
   "display_name": "Python 3 (ipykernel)",
   "language": "python",
   "name": "python3"
  },
  "language_info": {
   "codemirror_mode": {
    "name": "ipython",
    "version": 3
   },
   "file_extension": ".py",
   "mimetype": "text/x-python",
   "name": "python",
   "nbconvert_exporter": "python",
   "pygments_lexer": "ipython3",
   "version": "3.6.5"
  }
 },
 "nbformat": 4,
 "nbformat_minor": 5
}
